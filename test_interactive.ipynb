{
 "cells": [
  {
   "cell_type": "code",
   "execution_count": null,
   "metadata": {},
   "outputs": [],
   "source": [
    "import heat as ht\n",
    "import numpy as np\n",
    "import sys\n",
    "import os\n",
    "from netCDF4 import Dataset\n",
    "sys.path.append(os.path.abspath('.'))"
   ]
  },
  {
   "cell_type": "code",
   "execution_count": 2,
   "metadata": {},
   "outputs": [],
   "source": [
    "import Diagnostics\n",
    "from scripts import Calculate_Storages as wendi\n",
    "\n",
    "t2dir = \"/p/scratch/cslts/slts00/data/ramod_WRF_own/rv025r07_processed_for_BSC/for_EOF_HeAT_test/\"\n",
    "t2 = \"wrf_rv025_r07_test.wrfout_3km.20100701-20100730.selected_vars.v04_no_comp.nc\"\n",
    "variables = [\"Times\",\"T2\", \"XLAT\", \"XLONG\"]"
   ]
  },
  {
   "cell_type": "code",
   "execution_count": 3,
   "metadata": {},
   "outputs": [],
   "source": [
    "arr = Diagnostics.load({t2: variables}, t2dir)#['/p/scratch/cslts/slts00/data/ramod_WRF_own/rv025r07_processed_for_BSC/for_EOF_HeAT_test/wrf_rv025_r07_test.wrfout_3km.20100701-20100730.selected_vars.v04_no_comp.nc']"
   ]
  },
  {
   "cell_type": "code",
   "execution_count": null,
   "metadata": {},
   "outputs": [],
   "source": [
    "ncfile = Dataset('/p/scratch/cslts/slts31/tmp.nc', \"r+\", format=\"NETCDF4\")\n",
    "\n",
    "#ncfile.renameDimension('lat_dim_0', \"Latitude\")\n",
    "\n",
    "'T2_dim_0' not in ncfile.dimensions\n",
    "\n",
    "ncfile.close()"
   ]
  },
  {
   "cell_type": "code",
   "execution_count": null,
   "metadata": {},
   "outputs": [],
   "source": [
    "ht.save_netcdf(arr[t2]['XLONG'], '/p/scratch/cslts/slts31/tmp.nc', mode='r+', variable='long', dimensions=(a,b))"
   ]
  },
  {
   "cell_type": "code",
   "execution_count": 6,
   "metadata": {},
   "outputs": [],
   "source": [
    "tosave = arr[t2]\n",
    "for key in tosave.keys():\n",
    "    tosave[key] = [None, tosave[key]]"
   ]
  },
  {
   "cell_type": "code",
   "execution_count": null,
   "metadata": {},
   "outputs": [],
   "source": [
    "Diagnostics.writeVarsToNCFile()"
   ]
  }
 ],
 "metadata": {
  "kernelspec": {
   "display_name": "PythonHeAT_2019-12-19_1d1c514",
   "language": "python",
   "name": "pythonheat_2019-12-19_1d1c514"
  },
  "language_info": {
   "codemirror_mode": {
    "name": "ipython",
    "version": 3
   },
   "file_extension": ".py",
   "mimetype": "text/x-python",
   "name": "python",
   "nbconvert_exporter": "python",
   "pygments_lexer": "ipython3",
   "version": "3.6.8"
  }
 },
 "nbformat": 4,
 "nbformat_minor": 4
}
